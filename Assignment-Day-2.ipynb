{
 "metadata": {
  "language_info": {
   "codemirror_mode": {
    "name": "ipython",
    "version": 3
   },
   "file_extension": ".py",
   "mimetype": "text/x-python",
   "name": "python",
   "nbconvert_exporter": "python",
   "pygments_lexer": "ipython3",
   "version": "3.8.0-final"
  },
  "orig_nbformat": 2,
  "kernelspec": {
   "name": "python3",
   "display_name": "Python 3.8.0 64-bit",
   "metadata": {
    "interpreter": {
     "hash": "3acb02ee2c232e78f9bf89df5dc6889f4cd2d9ce8bebcc6f2f5581c9b44dbc68"
    }
   }
  }
 },
 "nbformat": 4,
 "nbformat_minor": 2,
 "cells": [
  {
   "source": [
    "# Question 1:\n",
    "Create an empty list. Accept 10 numbers from the user and append it to the list if it is an even number."
   ],
   "cell_type": "markdown",
   "metadata": {}
  },
  {
   "cell_type": "code",
   "execution_count": 5,
   "metadata": {},
   "outputs": [],
   "source": [
    "l=[]\n",
    "for i in range(10):\n",
    "    n=int(input())\n",
    "    if(n%2==0):\n",
    "        l.append(n)"
   ]
  },
  {
   "cell_type": "code",
   "execution_count": 6,
   "metadata": {},
   "outputs": [
    {
     "output_type": "execute_result",
     "data": {
      "text/plain": [
       "[2, 4, 6, 8, 10]"
      ]
     },
     "metadata": {},
     "execution_count": 6
    }
   ],
   "source": [
    "l"
   ]
  },
  {
   "source": [
    "# Question 2:\n",
    "Create a notebook on LIST COMPREHENSION."
   ],
   "cell_type": "markdown",
   "metadata": {}
  },
  {
   "source": [
    "## List Comprehension\n",
    "### List comprehension is an elegant way to define and create lists based on existing lists.\n",
    "#### Syntax:  \\[expression for item in list\\]"
   ],
   "cell_type": "markdown",
   "metadata": {}
  },
  {
   "cell_type": "code",
   "execution_count": 10,
   "metadata": {},
   "outputs": [
    {
     "output_type": "stream",
     "name": "stdout",
     "text": [
      "['h', 'u', 'm', 'a', 'n']\n"
     ]
    }
   ],
   "source": [
    "# Example 1\n",
    "letters=[letter for letter in 'human']\n",
    "print(letters)"
   ]
  },
  {
   "source": [
    "### List comprehensions can utilize conditional statement to modify existing list (or other tuples)."
   ],
   "cell_type": "markdown",
   "metadata": {}
  },
  {
   "cell_type": "code",
   "execution_count": 11,
   "metadata": {},
   "outputs": [
    {
     "output_type": "stream",
     "name": "stdout",
     "text": [
      "[0, 2, 4, 6, 8, 10, 12, 14, 16, 18]\n"
     ]
    }
   ],
   "source": [
    "# Example 2 (if)\n",
    "num_list=[x for x in range(20) if x%2==0]\n",
    "print(num_list)"
   ]
  },
  {
   "cell_type": "code",
   "execution_count": 13,
   "metadata": {},
   "outputs": [
    {
     "output_type": "stream",
     "name": "stdout",
     "text": [
      "[0, 10, 20, 30, 40, 50, 60, 70, 80, 90]\n"
     ]
    }
   ],
   "source": [
    "# Example 3 (Nested if)\n",
    "num_list=[y for y in range(100) if y%2==0 if y%5==0]\n",
    "print(num_list)"
   ]
  },
  {
   "cell_type": "code",
   "execution_count": 14,
   "metadata": {},
   "outputs": [
    {
     "output_type": "stream",
     "name": "stdout",
     "text": [
      "['Even', 'Odd', 'Even', 'Odd', 'Even', 'Odd', 'Even', 'Odd', 'Even', 'Odd']\n"
     ]
    }
   ],
   "source": [
    "# Example 4 (if...else)\n",
    "num_list=[\"Even\" if i%2==0 else \"Odd\" for i in range(10)]\n",
    "print(num_list)"
   ]
  },
  {
   "source": [
    "### Nested for loops can also be used in List Comprehension"
   ],
   "cell_type": "markdown",
   "metadata": {}
  },
  {
   "cell_type": "code",
   "execution_count": 16,
   "metadata": {},
   "outputs": [
    {
     "output_type": "stream",
     "name": "stdout",
     "text": [
      "[[1, 3, 5, 7], [2, 4, 6, 8]]\n"
     ]
    }
   ],
   "source": [
    "# Example 5 (Nested for loop)\n",
    "matrix=[[1,2],[3,4],[5,6],[7,8]]\n",
    "transpose=[[row[i] for row in matrix] for i in range(len(matrix[0]))]\n",
    "print(transpose)"
   ]
  },
  {
   "source": [
    "# Question 3:\n",
    "Given a number n, you have to write a program that generates a dictionary d which\n",
    "contains (i, i*i), where i is from 1 to n (both included).<br>\n",
    "Then you have to just print this dictionary d."
   ],
   "cell_type": "markdown",
   "metadata": {}
  },
  {
   "cell_type": "code",
   "execution_count": 24,
   "metadata": {},
   "outputs": [
    {
     "output_type": "stream",
     "name": "stdout",
     "text": [
      "8\n",
      "{1: 1, 2: 4, 3: 9, 4: 16, 5: 25, 6: 36, 7: 49, 8: 64}\n"
     ]
    }
   ],
   "source": [
    "n=int(input())\n",
    "d={i:i*i for i in range(1,n+1)}\n",
    "print(d)"
   ]
  },
  {
   "source": [
    "# Question 4:\n",
    "There is a robot which wants to go the charging point to charge itself.<br>\n",
    "The robot moves in a 2-D plane from the original point (0,0). The robot can move toward UP, DOWN, LEFT and RIGHT with given steps.<br>\n",
    "The trace of robot movement is shown as the following:<br><br>\n",
    "UP 5<br>\n",
    "DOWN 3<br>\n",
    "LEFT 3<br>\n",
    "RIGHT 2<br><br>\n",
    "Then, the output of the program should be:<br><br>\n",
    "2<br><br>\n",
    "The numbers after the direction are steps.<br><br>\n",
    "Write a program to compute the distance between the current position after a sequence of movement and original point.<br> If the distance is a float, then just print the nearest integer (use round() function for that and then convert it into an integer).<br>\n",
    "### Input Format:\n",
    "The first line of the input contains a number n which implies the number of directions to be given.<br> \n",
    "The next n lines contain the direction and the step separated by a space.\n",
    "### Output Format:\n",
    "Print the distance from the original position to the current position."
   ],
   "cell_type": "markdown",
   "metadata": {}
  },
  {
   "cell_type": "code",
   "execution_count": 30,
   "metadata": {},
   "outputs": [
    {
     "output_type": "stream",
     "name": "stdout",
     "text": [
      "4\n",
      "UP 5\n",
      "DOWN 3\n",
      "LEFT 3\n",
      "RIGHT 2\n",
      "2\n"
     ]
    }
   ],
   "source": [
    "n=int(input())\n",
    "x,y=0,0\n",
    "for i in range(n):\n",
    "    ds=input().split()\n",
    "    if ds[0].upper()==\"UP\":\n",
    "        y=y+int(ds[1])\n",
    "    elif ds[0].upper()==\"DOWN\":\n",
    "        y=y-int(ds[1])\n",
    "    elif ds[0].upper()==\"LEFT\":\n",
    "        x=x-int(ds[1])\n",
    "    elif ds[0].upper()==\"RIGHT\":\n",
    "        x=x+int(ds[1])\n",
    "    else:\n",
    "        print(\"You enter an invalid direction, Try Again\")\n",
    "        break\n",
    "\n",
    "d=((x*x)+(y*y))**(1/2)\n",
    "print(round(d))\n"
   ]
  }
 ]
}
