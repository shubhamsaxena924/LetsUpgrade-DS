{
 "cells": [
  {
   "cell_type": "code",
   "execution_count": 2,
   "metadata": {},
   "outputs": [],
   "source": [
    "import numpy as np"
   ]
  },
  {
   "cell_type": "markdown",
   "metadata": {},
   "source": [
    "# Question 1:\n",
    "Create a numpy array starting from 2 till 50 with a stepsize of 3."
   ]
  },
  {
   "cell_type": "code",
   "execution_count": 3,
   "metadata": {},
   "outputs": [],
   "source": [
    "a=np.arange(2,51,3)"
   ]
  },
  {
   "cell_type": "code",
   "execution_count": 4,
   "metadata": {},
   "outputs": [
    {
     "data": {
      "text/plain": [
       "array([ 2,  5,  8, 11, 14, 17, 20, 23, 26, 29, 32, 35, 38, 41, 44, 47, 50])"
      ]
     },
     "execution_count": 4,
     "metadata": {},
     "output_type": "execute_result"
    }
   ],
   "source": [
    "a"
   ]
  },
  {
   "cell_type": "markdown",
   "metadata": {},
   "source": [
    "# Question 2:\n",
    "Accept two lists of 5 elements each from the user.<br>\n",
    "Convert them to numpy arrays. Concatenate these arrays and print it. Also sort these arrays and print it."
   ]
  },
  {
   "cell_type": "code",
   "execution_count": 5,
   "metadata": {},
   "outputs": [
    {
     "name": "stdout",
     "output_type": "stream",
     "text": [
      "Enter 5 numbers for list one: \n",
      "1\n",
      "3\n",
      "5\n",
      "7\n",
      "9\n",
      "\n",
      "Enter 5 numbers for list two: \n",
      "2\n",
      "4\n",
      "6\n",
      "8\n",
      "10\n",
      "\n",
      "[ 1  3  5  7  9  2  4  6  8 10]\n",
      "\n",
      "[1 3 5 7 9]\n",
      "[ 2  4  6  8 10]\n",
      "[ 1  2  3  4  5  6  7  8  9 10]\n"
     ]
    }
   ],
   "source": [
    "print(\"Enter 5 numbers for list one: \")\n",
    "l1=np.array([int(input()) for i in range(5)])\n",
    "print(\"\\nEnter 5 numbers for list two: \")\n",
    "l2=np.array([int(input()) for i in range(5)])\n",
    "l3=np.concatenate([l1,l2])\n",
    "print('\\n',l3,'\\n',sep='')\n",
    "print(np.sort(l1),'\\n',np.sort(l2),'\\n',np.sort(l3),sep='')"
   ]
  },
  {
   "cell_type": "markdown",
   "metadata": {},
   "source": [
    "# Question 3:\n",
    "Write a code snippet to find the dimensions of a ndarray and its size."
   ]
  },
  {
   "cell_type": "code",
   "execution_count": 9,
   "metadata": {},
   "outputs": [
    {
     "name": "stdout",
     "output_type": "stream",
     "text": [
      "[[[ 0  1]\n",
      "  [ 2  3]\n",
      "  [ 4  5]\n",
      "  [ 6  7]]\n",
      "\n",
      " [[ 8  9]\n",
      "  [10 11]\n",
      "  [12 13]\n",
      "  [14 15]]\n",
      "\n",
      " [[16 17]\n",
      "  [18 19]\n",
      "  [20 21]\n",
      "  [22 23]]] \n",
      "\n",
      "<class 'numpy.ndarray'>\n",
      "(3, 4, 2)\n",
      "Dimensions:  3\n",
      "Size of ndarray:  24\n"
     ]
    }
   ],
   "source": [
    "lst=np.arange(24).reshape(3,4,2)\n",
    "print(lst,'\\n')\n",
    "print(type(lst),lst.shape,sep='\\n')\n",
    "print('Dimensions: ', np.ndim(lst))\n",
    "print('Size of ndarray: ',np.size(lst))"
   ]
  },
  {
   "cell_type": "markdown",
   "metadata": {},
   "source": [
    "# Question 4:\n",
    "How to convert a 1D array into a 2D array? Demonstrate with the help of a code snippet<br>\n",
    "Hint: np.newaxis, np.expand_dims"
   ]
  },
  {
   "cell_type": "code",
   "execution_count": 13,
   "metadata": {},
   "outputs": [
    {
     "name": "stdout",
     "output_type": "stream",
     "text": [
      "(10,)\n",
      "(10, 1)\n",
      "(1, 10)\n",
      "(10, 1, 1)\n",
      "(5, 5)\n",
      "(5, 1, 5)\n"
     ]
    }
   ],
   "source": [
    "# Creating a 1D array\n",
    "lst1 = np.arange(10)\n",
    "print(lst1.shape)\n",
    "\n",
    "# Converting the 1D array to 2D array by inserting an axis at position 1\n",
    "lst2 = np.expand_dims(lst1, axis=1)\n",
    "print(lst2.shape)\n",
    "\n",
    "\n",
    "# Converting the 1D array to 2D array by inserting an axis at position 0\n",
    "lst3 = np.expand_dims(lst1, axis=0)\n",
    "print(lst3.shape)\n",
    "\n",
    "# Converting the 1D array to 3D array by inserting an axis at position 1,2\n",
    "lst4=np.expand_dims(lst1,axis=(1,2))\n",
    "print(lst4.shape)\n",
    "\n",
    "# creating a 2D array\n",
    "lst5= np.arange(25).reshape(5,5)\n",
    "print(lst5.shape)\n",
    "\n",
    "# Converting above 2D array to 3D array by inserting an axis at position 1\n",
    "lst6 = np.expand_dims(lst5, axis=1)\n",
    "print(lst6.shape)"
   ]
  },
  {
   "cell_type": "markdown",
   "metadata": {},
   "source": [
    "# Question 5:\n",
    "Consider two square numpy arrays. Stack them vertically and horizontally.<br>\n",
    "Hint: Use vstack(), hstack()"
   ]
  },
  {
   "cell_type": "code",
   "execution_count": 16,
   "metadata": {},
   "outputs": [
    {
     "name": "stdout",
     "output_type": "stream",
     "text": [
      "[[ 0  1  2  3]\n",
      " [ 4  5  6  7]\n",
      " [ 8  9 10 11]\n",
      " [12 13 14 15]\n",
      " [16 17 18 19]\n",
      " [20 21 22 23]\n",
      " [24 25 26 27]\n",
      " [28 29 30 31]]\n",
      "\n",
      "[[ 0  1  2  3 16 17 18 19]\n",
      " [ 4  5  6  7 20 21 22 23]\n",
      " [ 8  9 10 11 24 25 26 27]\n",
      " [12 13 14 15 28 29 30 31]]\n"
     ]
    }
   ],
   "source": [
    "lst1=np.arange(16).reshape(4,4)\n",
    "lst2=np.arange(16,32).reshape(4,4)\n",
    "\n",
    "print(np.vstack((lst1,lst2)))\n",
    "print()\n",
    "print(np.hstack((lst1,lst2)))"
   ]
  },
  {
   "cell_type": "markdown",
   "metadata": {},
   "source": [
    "# Question 6:\n",
    "How to get unique items and counts of unique items?"
   ]
  },
  {
   "cell_type": "code",
   "execution_count": 19,
   "metadata": {},
   "outputs": [
    {
     "name": "stdout",
     "output_type": "stream",
     "text": [
      "[ 1  2  3  5  6  7  8  9 10]\n",
      "[2 2 1 2 1 1 2 1 3]\n"
     ]
    }
   ],
   "source": [
    "lst11 = np.array([[1,2,2,3,5],[5,6,10,7,8],[8,9,10,1,10]])\n",
    "\n",
    "uniq,count= np.unique(lst11,return_counts=True)\n",
    "print(uniq)\n",
    "print(count)"
   ]
  }
 ],
 "metadata": {
  "kernelspec": {
   "display_name": "Python 3",
   "language": "python",
   "name": "python3"
  },
  "language_info": {
   "codemirror_mode": {
    "name": "ipython",
    "version": 3
   },
   "file_extension": ".py",
   "mimetype": "text/x-python",
   "name": "python",
   "nbconvert_exporter": "python",
   "pygments_lexer": "ipython3",
   "version": "3.8.0"
  }
 },
 "nbformat": 4,
 "nbformat_minor": 4
}
