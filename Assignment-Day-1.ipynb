{
 "metadata": {
  "language_info": {
   "codemirror_mode": {
    "name": "ipython",
    "version": 3
   },
   "file_extension": ".py",
   "mimetype": "text/x-python",
   "name": "python",
   "nbconvert_exporter": "python",
   "pygments_lexer": "ipython3",
   "version": "3.8.0-final"
  },
  "orig_nbformat": 2,
  "kernelspec": {
   "name": "python3",
   "display_name": "Python 3.8.0 64-bit",
   "metadata": {
    "interpreter": {
     "hash": "3acb02ee2c232e78f9bf89df5dc6889f4cd2d9ce8bebcc6f2f5581c9b44dbc68"
    }
   }
  }
 },
 "nbformat": 4,
 "nbformat_minor": 2,
 "cells": [
  {
   "source": [
    "# Question 1:\n",
    "Given the following jumbled word, OBANWRI guess the correct English Word.<br>\n",
    "A. RANIBOW<br>\n",
    "B. RAINBOW<br>\n",
    "C. BOWRANI<br>\n",
    "D. ROBWANI<br>"
   ],
   "cell_type": "markdown",
   "metadata": {}
  },
  {
   "source": [
    "## Answer\n",
    "Ans. B->RAINBOW"
   ],
   "cell_type": "markdown",
   "metadata": {}
  },
  {
   "source": [
    "# Question 2:\n",
    "Write a program which prints \"LETS UPGRADE\". (Please note that you have to print in ALL CAPS as given.)"
   ],
   "cell_type": "markdown",
   "metadata": {}
  },
  {
   "source": [
    "print(\"LETS UPGRADE\")"
   ],
   "cell_type": "code",
   "metadata": {},
   "execution_count": 13,
   "outputs": [
    {
     "output_type": "stream",
     "name": "stdout",
     "text": [
      "LETS UPGRADE\n"
     ]
    }
   ]
  },
  {
   "source": [
    "# Question 3:\n",
    "Write a program that takes cost price and selling price as input and displays whther the transaction is a Profit or a Loss or Neither.\n",
    "### INPUT FORMAT\n",
    "The first line contains the cost price.<br>\n",
    "The second line contains the selling price.<br>\n",
    "### OUTPUT FORMAT\n",
    "Print \"Profit\" if the transaction is a profit and \"Loss\" if it is a loss. If it is neither profit nor loss, print \"Neither\". (You must not have quotes in your output)\n",
    "### NOTE:\n",
    "Please stick to the input and output format. Don't add anything extra like \"ENter cost price\", \"Enter selling price\", etc."
   ],
   "cell_type": "markdown",
   "metadata": {}
  },
  {
   "cell_type": "code",
   "execution_count": 18,
   "metadata": {},
   "outputs": [
    {
     "output_type": "stream",
     "name": "stdout",
     "text": [
      "20\n",
      "30\n",
      "Profit\n"
     ]
    }
   ],
   "source": [
    "cp=int(input())\n",
    "sp=int(input())\n",
    "if sp-cp>0:\n",
    "    print(\"Profit\")\n",
    "elif sp-cp<0:\n",
    "    print(\"Loss\")\n",
    "else:\n",
    "    print(\"Neither\")"
   ]
  },
  {
   "source": [
    "# Question 4:\n",
    "Write a program that takes and amount in Euros as input. You need to find its equivalent in Rupess and display it. Assume 1 Euro equals Rs. 80.<br>\n",
    "Please note that you are expected to stick to the given input and output format as in sample test cases. Please dont add any extra lines such as 'Enter a number', etc.<br>\n",
    "Your program should take only one number as input and display the output."
   ],
   "cell_type": "markdown",
   "metadata": {}
  },
  {
   "cell_type": "code",
   "execution_count": 19,
   "metadata": {},
   "outputs": [
    {
     "output_type": "stream",
     "name": "stdout",
     "text": [
      "18\n",
      "1440\n"
     ]
    }
   ],
   "source": [
    "euro=int(input())\n",
    "print(euro*80)"
   ]
  }
 ]
}
